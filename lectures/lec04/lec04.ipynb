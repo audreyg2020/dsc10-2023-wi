{
 "cells": [
  {
   "cell_type": "markdown",
   "metadata": {
    "slideshow": {
     "slide_type": "slide"
    }
   },
   "source": [
    "# Lecture 4 –  DataFrames: Accessing, Sorting, and Querying\n",
    "## DSC 10, Winter 2023"
   ]
  },
  {
   "cell_type": "markdown",
   "metadata": {
    "slideshow": {
     "slide_type": "slide"
    }
   },
   "source": [
    "### Announcements\n",
    "\n",
    "- Lab 0 was due last night, but you can still turn it in late using slip days. You never need to ask to use a slip day.\n",
    "- Lab 1 is the next assignment, and it's due **Saturday at 11:59PM**.\n",
    "- Homework 1 is also out, and it's due **Tuesday at 11:59PM**.\n",
    "    - Make sure to finish Lab 1 before attempting Homework 1. Homeworks build off of the skills learned in labs.\n",
    "- Come to office hours for help!"
   ]
  },
  {
   "cell_type": "markdown",
   "metadata": {
    "slideshow": {
     "slide_type": "slide"
    }
   },
   "source": [
    "### Agenda\n",
    "\n",
    "Today, we'll use a real dataset and lots of motivating questions to illustrate key DataFrame manipulation techniques.\n",
    "\n",
    "#### Note:\n",
    "\n",
    "- Remember to check the [Resources tab of the course website](https://dsc10.com/resources/) for programming resources.\n",
    "- Some key links moving forward:\n",
    "    - [DSC 10 Reference Sheet](https://drive.google.com/file/d/1ky0Np67HS2O4LO913P-ing97SJG0j27n/view).\n",
    "    - [`babypandas` notes](https://notes.dsc10.com).\n",
    "    - [`babypandas` documentation](https://babypandas.readthedocs.io/en/latest/index.html)."
   ]
  },
  {
   "cell_type": "markdown",
   "metadata": {
    "slideshow": {
     "slide_type": "slide"
    }
   },
   "source": [
    "## DataFrames"
   ]
  },
  {
   "cell_type": "markdown",
   "metadata": {
    "slideshow": {
     "slide_type": "slide"
    }
   },
   "source": [
    "### `pandas`\n",
    "\n",
    "- DataFrames (tables) are provided by a package called `pandas`.\n",
    "- `pandas` is **the** tool for doing data science in Python.\n",
    "\n",
    "<center>\n",
    "<img src='data/pandas.png' width=500>\n",
    "</center>"
   ]
  },
  {
   "cell_type": "markdown",
   "metadata": {
    "slideshow": {
     "slide_type": "slide"
    }
   },
   "source": [
    "### But `pandas` is not so cute...\n",
    "\n",
    "<center>\n",
    "<img height=100% src=\"data/angrypanda.jpg\"/>\n",
    "</center>"
   ]
  },
  {
   "cell_type": "markdown",
   "metadata": {
    "slideshow": {
     "slide_type": "slide"
    }
   },
   "source": [
    "### Enter `babypandas`!\n",
    "\n",
    "- We at UCSD have created a smaller, nicer version of `pandas` called `babypandas`.\n",
    "- It keeps the important stuff and has much better error messages.\n",
    "- It's easier to learn, but is still valid `pandas` code.\n",
    "\n",
    "<center>\n",
    "<img height=75% src=\"data/babypanda.jpg\"/ width=500>\n",
    "</center>"
   ]
  },
  {
   "cell_type": "markdown",
   "metadata": {
    "slideshow": {
     "slide_type": "slide"
    }
   },
   "source": [
    "### DataFrames in `babypandas` 🐼\n",
    "\n",
    "- Tables in `babypandas` (and `pandas`) are called \"DataFrames.\"\n",
    "- To use DataFrames, we'll need to import `babypandas`. (We'll need `numpy` as well.)"
   ]
  },
  {
   "cell_type": "code",
   "execution_count": null,
   "metadata": {
    "slideshow": {
     "slide_type": "-"
    }
   },
   "outputs": [],
   "source": [
    "import babypandas as bpd\n",
    "import numpy as np"
   ]
  },
  {
   "cell_type": "markdown",
   "metadata": {
    "slideshow": {
     "slide_type": "slide"
    }
   },
   "source": [
    "### About the Data: Get It Done 👷\n",
    "\n",
    "- We'll usually work with data stored in the CSV format. CSV stands for \"comma-separated values.\"\n",
    "- The file `data/get-it-done-jan-16.csv` contains service requests made on January 16, 2023 through the [Get It Done](https://www.sandiego.gov/get-it-done) program. \n",
    "- Get It Done allows the general public to report non-emergency problems to the City of San Diego through a mobile app, website, or phone call.\n",
    "\n",
    "<center>\n",
    "<img height=75% src=\"data/get-it-done.jpg\"/ width=500>\n",
    "</center>"
   ]
  },
  {
   "cell_type": "markdown",
   "metadata": {
    "slideshow": {
     "slide_type": "slide"
    }
   },
   "source": [
    "### Reading data from a file 📖\n",
    "\n",
    "We can read in a CSV using `bpd.read_csv(...)`. Give it the path to a file relative to your notebook (if the file is in the same folder as your notebook, this is just the name of the file)."
   ]
  },
  {
   "cell_type": "code",
   "execution_count": null,
   "metadata": {
    "scrolled": false
   },
   "outputs": [],
   "source": [
    "jan_16 = bpd.read_csv('data/get-it-done-jan-16.csv')\n",
    "jan_16"
   ]
  },
  {
   "cell_type": "markdown",
   "metadata": {
    "slideshow": {
     "slide_type": "slide"
    }
   },
   "source": [
    "### Structure of a DataFrame\n",
    "\n",
    "- DataFrames have *columns* and *rows*.\n",
    "    - Think of each column as an array. Columns contain data of the same `type`.\n",
    "- Each column has a label, e.g. `'neighborhood'` and `'status'`.\n",
    "    - A column's label is its name.\n",
    "    - Column labels are stored as strings.\n",
    "- Each row has a label too.\n",
    "    - Together, the row labels are called the _index_. The index is **not** a column!\n",
    "    "
   ]
  },
  {
   "cell_type": "code",
   "execution_count": null,
   "metadata": {
    "scrolled": true,
    "slideshow": {
     "slide_type": "-"
    }
   },
   "outputs": [],
   "source": [
    "# This DataFrame has 1360 rows and 7 columns\n",
    "jan_16"
   ]
  },
  {
   "cell_type": "markdown",
   "metadata": {
    "slideshow": {
     "slide_type": "slide"
    }
   },
   "source": [
    "### Setting a new index\n",
    "\n",
    "- We can set a better index using `.set_index(column_name)`.\n",
    "- Row labels should be unique identifiers.\n",
    "    - Row labels are row names; ideally, each row has a different, descriptive name.\n",
    "- ⚠️ Like most DataFrame methods, `.set_index` returns a new DataFrame; it does not modify the original DataFrame."
   ]
  },
  {
   "cell_type": "code",
   "execution_count": null,
   "metadata": {},
   "outputs": [],
   "source": [
    "jan_16.set_index('service_request_id')"
   ]
  },
  {
   "cell_type": "code",
   "execution_count": null,
   "metadata": {},
   "outputs": [],
   "source": [
    "jan_16"
   ]
  },
  {
   "cell_type": "code",
   "execution_count": null,
   "metadata": {},
   "outputs": [],
   "source": [
    "jan_16 = jan_16.set_index('service_request_id')\n",
    "jan_16"
   ]
  },
  {
   "cell_type": "markdown",
   "metadata": {
    "slideshow": {
     "slide_type": "slide"
    }
   },
   "source": [
    "### Shape of a DataFrame\n",
    "\n",
    "- `.shape` returns the number of rows and columns in a given DataFrame.\n",
    "- Access each with `[]`: \n",
    "    - `.shape[0]` for rows.\n",
    "    - `.shape[1]` for columns."
   ]
  },
  {
   "cell_type": "code",
   "execution_count": null,
   "metadata": {},
   "outputs": [],
   "source": [
    "# There were 7 columns before, but one of them became the index, and the index is not a column!\n",
    "jan_16.shape"
   ]
  },
  {
   "cell_type": "code",
   "execution_count": null,
   "metadata": {},
   "outputs": [],
   "source": [
    "# Number of rows\n",
    "jan_16.shape[0]"
   ]
  },
  {
   "cell_type": "code",
   "execution_count": null,
   "metadata": {},
   "outputs": [],
   "source": [
    "# Number of columns\n",
    "jan_16.shape[1]"
   ]
  },
  {
   "cell_type": "markdown",
   "metadata": {
    "slideshow": {
     "slide_type": "slide"
    }
   },
   "source": [
    "### Annual summary of Get It Done requests\n",
    "\n",
    "- The file `data/get-it-done-requests.csv` contains a summary of all Get It Done requests submitted so far in 2023.\n",
    "- This whole year's worth of data shows the types of problems being reported in each neighborhood and how many service requests are resolved (`'closed'`) versus unresolved (`'open'`)."
   ]
  },
  {
   "cell_type": "code",
   "execution_count": null,
   "metadata": {},
   "outputs": [],
   "source": [
    "requests = bpd.read_csv('data/get-it-done-requests.csv')\n",
    "requests"
   ]
  },
  {
   "cell_type": "markdown",
   "metadata": {
    "slideshow": {
     "slide_type": "slide"
    }
   },
   "source": [
    "## Example 1: Total requests\n",
    "\n",
    "**Key concepts:** Accessing columns, performing operations with them, and adding new columns."
   ]
  },
  {
   "cell_type": "markdown",
   "metadata": {
    "slideshow": {
     "slide_type": "slide"
    }
   },
   "source": [
    "### Finding total requests\n",
    "\n",
    "- **Question:** How many service requests of each type in each neighborhood have been made this year?\n",
    "- We have, separately, the number of closed service requests and open service requests of each type in each neighborhood.\n",
    "- Workflow:\n",
    "    - Get the column of closed requests.\n",
    "    - Get the column of open requests.\n",
    "    - Add these columns element-wise.\n",
    "    - Add a new column to the DataFrame with these totals."
   ]
  },
  {
   "cell_type": "markdown",
   "metadata": {
    "slideshow": {
     "slide_type": "slide"
    }
   },
   "source": [
    "#### Step 1 – Getting a column\n",
    "\n",
    "- We can get a column from a DataFrame using `.get(column_name)`.\n",
    "- ⚠️ Column names are case sensitive!\n",
    "- Column names are strings, so we need to use quotes.\n",
    "- The result looks like a 1-column DataFrame, but is actually a *Series*."
   ]
  },
  {
   "cell_type": "code",
   "execution_count": null,
   "metadata": {},
   "outputs": [],
   "source": [
    "requests"
   ]
  },
  {
   "cell_type": "code",
   "execution_count": null,
   "metadata": {},
   "outputs": [],
   "source": [
    "requests.get('closed')"
   ]
  },
  {
   "cell_type": "markdown",
   "metadata": {
    "slideshow": {
     "slide_type": "slide"
    }
   },
   "source": [
    "### Digression: Series\n",
    "\n",
    "- A *Series* is like an array, but with an index.\n",
    "- In particular, Series support arithmetic."
   ]
  },
  {
   "cell_type": "code",
   "execution_count": null,
   "metadata": {},
   "outputs": [],
   "source": [
    "requests.get('closed')"
   ]
  },
  {
   "cell_type": "markdown",
   "metadata": {
    "slideshow": {
     "slide_type": "slide"
    }
   },
   "source": [
    "#### Step 2 – Getting another column"
   ]
  },
  {
   "cell_type": "code",
   "execution_count": null,
   "metadata": {},
   "outputs": [],
   "source": [
    "requests.get('open')"
   ]
  },
  {
   "cell_type": "markdown",
   "metadata": {
    "slideshow": {
     "slide_type": "slide"
    }
   },
   "source": [
    "#### Step 3 – Calculating the total\n",
    "\n",
    "- Just like with arrays, we can perform arithmetic operations with two Series, as long as they have the same length and same index. \n",
    "- Operations happen element-wise.\n",
    "- The result is also a Series."
   ]
  },
  {
   "cell_type": "code",
   "execution_count": null,
   "metadata": {},
   "outputs": [],
   "source": [
    "requests.get('closed') + requests.get('open')"
   ]
  },
  {
   "cell_type": "markdown",
   "metadata": {
    "slideshow": {
     "slide_type": "slide"
    }
   },
   "source": [
    "#### Step 4 – Adding the totals to the DataFrame as a new column\n",
    "\n",
    "- Use `.assign(name_of_column=data_in_series)` to assign a Series (or array, or list) to a DataFrame.\n",
    "- ⚠️ Don't put quotes around `name_of_column`.\n",
    "- Creates a new DataFrame! Must save to variable."
   ]
  },
  {
   "cell_type": "code",
   "execution_count": null,
   "metadata": {
    "scrolled": false
   },
   "outputs": [],
   "source": [
    "requests.assign(\n",
    "    total=requests.get('closed') + requests.get('open')\n",
    ")"
   ]
  },
  {
   "cell_type": "code",
   "execution_count": null,
   "metadata": {},
   "outputs": [],
   "source": [
    "requests"
   ]
  },
  {
   "cell_type": "code",
   "execution_count": null,
   "metadata": {
    "slideshow": {
     "slide_type": "slide"
    }
   },
   "outputs": [],
   "source": [
    "requests = requests.assign(\n",
    "    total=requests.get('closed') + requests.get('open')\n",
    ")\n",
    "requests"
   ]
  },
  {
   "cell_type": "markdown",
   "metadata": {
    "slideshow": {
     "slide_type": "slide"
    }
   },
   "source": [
    "## Example 2: Analyzing requests\n",
    "**Key concept**: Computing statistics of columns using Series methods."
   ]
  },
  {
   "cell_type": "markdown",
   "metadata": {
    "slideshow": {
     "slide_type": "slide"
    }
   },
   "source": [
    "### Questions\n",
    "\n",
    "- What is the largest number of service requests for any one service in any one neighborhood? \n",
    "- What is a typical number of service requests for any one service in any one neighborhood?\n",
    "\n",
    "Series, like arrays, have helpful methods, including `.min()`, `.max()`, and `.mean()`."
   ]
  },
  {
   "cell_type": "code",
   "execution_count": null,
   "metadata": {
    "scrolled": true
   },
   "outputs": [],
   "source": [
    "requests.get('total').max()"
   ]
  },
  {
   "cell_type": "markdown",
   "metadata": {
    "slideshow": {
     "slide_type": "fragment"
    }
   },
   "source": [
    "What is it that people are reporting so frequently, and where? We'll see how to find out shortly!\n",
    "\n",
    "Other statistics:"
   ]
  },
  {
   "cell_type": "code",
   "execution_count": null,
   "metadata": {
    "slideshow": {
     "slide_type": "fragment"
    }
   },
   "outputs": [],
   "source": [
    "requests.get('total').mean()"
   ]
  },
  {
   "cell_type": "code",
   "execution_count": null,
   "metadata": {
    "scrolled": true
   },
   "outputs": [],
   "source": [
    "requests.get('total').median()"
   ]
  },
  {
   "cell_type": "code",
   "execution_count": null,
   "metadata": {},
   "outputs": [],
   "source": [
    "requests.get('open').mean()"
   ]
  },
  {
   "cell_type": "code",
   "execution_count": null,
   "metadata": {},
   "outputs": [],
   "source": [
    "requests.get('open').median()"
   ]
  },
  {
   "cell_type": "markdown",
   "metadata": {
    "slideshow": {
     "slide_type": "slide"
    }
   },
   "source": [
    "## Example 3: *What and where* is the most frequently requested service?\n",
    "\n",
    "**Key concepts**: Sorting. Accessing using integer positions."
   ]
  },
  {
   "cell_type": "markdown",
   "metadata": {
    "slideshow": {
     "slide_type": "slide"
    }
   },
   "source": [
    "#### Step 1  – Sorting the DataFrame\n",
    "\n",
    "- Use the `.sort_values(by=column_name)` method to sort.\n",
    "    - The `by=` can be omitted, but helps readability.\n",
    "- Like most DataFrame methods, this returns a new DataFrame."
   ]
  },
  {
   "cell_type": "code",
   "execution_count": null,
   "metadata": {
    "scrolled": false
   },
   "outputs": [],
   "source": [
    "requests.sort_values(by='total')"
   ]
  },
  {
   "cell_type": "markdown",
   "metadata": {
    "slideshow": {
     "slide_type": "fragment"
    }
   },
   "source": [
    "This sorts, but in ascending order (small to large). We want the opposite!"
   ]
  },
  {
   "cell_type": "markdown",
   "metadata": {
    "slideshow": {
     "slide_type": "slide"
    }
   },
   "source": [
    "#### Step 1 – Sorting the DataFrame in *descending* order\n",
    "\n",
    "- Use `.sort_values(by=column_name, ascending=False)` to sort in *descending* order.\n",
    "- `ascending` is an optional argument. If omitted, it will be set to `True` by default.\n",
    "    - This is an example of a *keyword argument*, or a *named argument*.\n",
    "    - If we want to specify the sorting order, we must use the keyword `ascending=`."
   ]
  },
  {
   "cell_type": "code",
   "execution_count": null,
   "metadata": {},
   "outputs": [],
   "source": [
    "ordered_requests = requests.sort_values(by='total', ascending=False)\n",
    "ordered_requests"
   ]
  },
  {
   "cell_type": "code",
   "execution_count": null,
   "metadata": {
    "scrolled": true
   },
   "outputs": [],
   "source": [
    "# We must specify the role of False by using ascending=, \n",
    "# otherwise Python does not know how to interpret this.\n",
    "ordered_requests = requests.sort_values(by='total', False)\n",
    "ordered_requests"
   ]
  },
  {
   "cell_type": "markdown",
   "metadata": {
    "slideshow": {
     "slide_type": "slide"
    }
   },
   "source": [
    "#### Step 2 – Extracting the neighborhood and service\n",
    "\n",
    "- We saw that the most reported issue is `'Encampment'` in `'Downtown'`, but how do we extract that information using code?\n",
    "- First, grab an entire column as a Series.\n",
    "- Navigate to a particular entry of the Series using `.iloc[integer_position]`."
   ]
  },
  {
   "cell_type": "code",
   "execution_count": null,
   "metadata": {
    "scrolled": true
   },
   "outputs": [],
   "source": [
    "ordered_requests"
   ]
  },
  {
   "cell_type": "code",
   "execution_count": null,
   "metadata": {},
   "outputs": [],
   "source": [
    "ordered_requests.get('neighborhood')"
   ]
  },
  {
   "cell_type": "code",
   "execution_count": null,
   "metadata": {},
   "outputs": [],
   "source": [
    "ordered_requests.get('neighborhood').iloc[0]"
   ]
  },
  {
   "cell_type": "code",
   "execution_count": null,
   "metadata": {},
   "outputs": [],
   "source": [
    "ordered_requests.get('service').iloc[0]"
   ]
  },
  {
   "cell_type": "markdown",
   "metadata": {
    "slideshow": {
     "slide_type": "slide"
    }
   },
   "source": [
    "## Example 4: Status of a request\n",
    "\n",
    "**Key concept**: Accessing using row labels."
   ]
  },
  {
   "cell_type": "markdown",
   "metadata": {
    "slideshow": {
     "slide_type": "slide"
    }
   },
   "source": [
    "### Status of a request\n",
    "\n",
    "- On January 16, you submitted service request **4065843**. Has the issue been resolved? \n",
    "\n",
    "- This cannot be answered from the annual summary data, but must be answered from the detailed data about January 16."
   ]
  },
  {
   "cell_type": "code",
   "execution_count": null,
   "metadata": {},
   "outputs": [],
   "source": [
    "jan_16"
   ]
  },
  {
   "cell_type": "markdown",
   "metadata": {
    "slideshow": {
     "slide_type": "fragment"
    }
   },
   "source": [
    "Your service request is buried in the middle of the DataFrame. Only the first few rows and last few rows are shown, so you can't tell just by looking at the DataFrame."
   ]
  },
  {
   "cell_type": "markdown",
   "metadata": {
    "slideshow": {
     "slide_type": "slide"
    }
   },
   "source": [
    "### Accessing using the row label\n",
    "\n",
    "To pull out one particular entry of a DataFrame corresponding to a row and column with certain labels:\n",
    "1. Use `.get(column_name)` to extract the entire column as a Series.\n",
    "2. Use `.loc[]` to access the element of a Series with a particular row label.\n",
    "\n",
    "In this class, we'll always first access a column, then a row (but row, then column is also possible)."
   ]
  },
  {
   "cell_type": "code",
   "execution_count": null,
   "metadata": {},
   "outputs": [],
   "source": [
    "jan_16.get('status')"
   ]
  },
  {
   "cell_type": "code",
   "execution_count": null,
   "metadata": {},
   "outputs": [],
   "source": [
    "jan_16.get('status').loc[4065843]"
   ]
  },
  {
   "cell_type": "markdown",
   "metadata": {
    "slideshow": {
     "slide_type": "slide"
    }
   },
   "source": [
    "### Activity 🌧️\n",
    "\n",
    "Oh no, your service request 4065843 has still not been resolved! What was the problem again?\n",
    "\n",
    "Write one line of code that evaluates to the full description of the problem, as you described it in your service request."
   ]
  },
  {
   "cell_type": "code",
   "execution_count": null,
   "metadata": {},
   "outputs": [],
   "source": [
    "..."
   ]
  },
  {
   "cell_type": "markdown",
   "metadata": {
    "slideshow": {
     "slide_type": "slide"
    }
   },
   "source": [
    "### Summary of accessing a Series\n",
    "\n",
    "- There are two ways to get an element of a Series:\n",
    "    - `.loc[]` uses the row label.\n",
    "    - `.iloc[]` uses the integer position.\n",
    "- Usually `.loc[]` is more convenient, but each is best for different scenarios."
   ]
  },
  {
   "cell_type": "markdown",
   "metadata": {
    "slideshow": {
     "slide_type": "slide"
    }
   },
   "source": [
    "### Note\n",
    "\n",
    "- Sometimes the integer position and row label are the same.\n",
    "- This happens by default with `bpd.read_csv`."
   ]
  },
  {
   "cell_type": "code",
   "execution_count": null,
   "metadata": {},
   "outputs": [],
   "source": [
    "bpd.read_csv('data/get-it-done-jan-16.csv')"
   ]
  },
  {
   "cell_type": "code",
   "execution_count": null,
   "metadata": {},
   "outputs": [],
   "source": [
    "bpd.read_csv('data/get-it-done-jan-16.csv').get('public_description').loc[561]"
   ]
  },
  {
   "cell_type": "code",
   "execution_count": null,
   "metadata": {},
   "outputs": [],
   "source": [
    "bpd.read_csv('data/get-it-done-jan-16.csv').get('public_description').iloc[561]"
   ]
  },
  {
   "cell_type": "markdown",
   "metadata": {
    "slideshow": {
     "slide_type": "slide"
    }
   },
   "source": [
    "## Reflection"
   ]
  },
  {
   "cell_type": "markdown",
   "metadata": {
    "slideshow": {
     "slide_type": "slide"
    }
   },
   "source": [
    "### Questions we can answer right now..."
   ]
  },
  {
   "cell_type": "markdown",
   "metadata": {
    "slideshow": {
     "slide_type": "fragment"
    }
   },
   "source": [
    "- What is the largest number of open requests of one type in one neighborhood?\n",
    "    - `requests.get('open').max()`."
   ]
  },
  {
   "cell_type": "markdown",
   "metadata": {
    "slideshow": {
     "slide_type": "fragment"
    }
   },
   "source": [
    "- How many requests were made on January 16?\n",
    "    - `jan_16.shape[0]`."
   ]
  },
  {
   "cell_type": "markdown",
   "metadata": {
    "slideshow": {
     "slide_type": "fragment"
    }
   },
   "source": [
    "- What is the description of the latest request made on January 16?\n",
    "    - `jan_16.sort_values(by='date_requested', ascending=False).get('public_description').iloc[0]`."
   ]
  },
  {
   "cell_type": "markdown",
   "metadata": {
    "slideshow": {
     "slide_type": "slide"
    }
   },
   "source": [
    "Moving forward, let's just focus on the `requests` DataFrame. As a reminder, here's what it looks like:"
   ]
  },
  {
   "cell_type": "code",
   "execution_count": null,
   "metadata": {
    "slideshow": {
     "slide_type": "-"
    }
   },
   "outputs": [],
   "source": [
    "requests"
   ]
  },
  {
   "cell_type": "markdown",
   "metadata": {
    "slideshow": {
     "slide_type": "slide"
    }
   },
   "source": [
    "### Questions we can't yet answer...\n",
    "- Which neighborhood has the most `'Tree Maintenance'` requests?\n",
    "- What is the most commonly requested service in the `'University'` neighborhood (near UCSD)?\n",
    "- In the `'Downtown'` neighborhood, how many open service requests are there?\n",
    "\n",
    "The common thread between these questions is that they all involve only a **subset** of the rows in our DataFrame."
   ]
  },
  {
   "cell_type": "markdown",
   "metadata": {
    "slideshow": {
     "slide_type": "slide"
    }
   },
   "source": [
    "## Example 5: Which neighborhood has the most `'Tree Maintenance'` requests? 🌳\n",
    "\n",
    "**Key concept**: Querying"
   ]
  },
  {
   "cell_type": "markdown",
   "metadata": {
    "slideshow": {
     "slide_type": "slide"
    }
   },
   "source": [
    "### Selecting rows\n",
    "\n",
    "- We could determine the neighborhood with the most `'Tree Maintenance'` requests if we had a DataFrame consisting of only these type of requests.\n",
    "    - We would sort by the `'total'` column in descending order, then extract the neighborhood name in the first row.\n",
    "- How do we get that DataFrame?"
   ]
  },
  {
   "cell_type": "markdown",
   "metadata": {
    "slideshow": {
     "slide_type": "slide"
    }
   },
   "source": [
    "### The solution"
   ]
  },
  {
   "cell_type": "code",
   "execution_count": null,
   "metadata": {},
   "outputs": [],
   "source": [
    "requests[requests.get('service') == 'Tree Maintenance']"
   ]
  },
  {
   "cell_type": "markdown",
   "metadata": {
    "slideshow": {
     "slide_type": "fragment"
    }
   },
   "source": [
    "Use `==` to check equality. Not `=`, as that's for assignment of a value to a variable."
   ]
  },
  {
   "cell_type": "code",
   "execution_count": null,
   "metadata": {},
   "outputs": [],
   "source": [
    "'Tree Maintenance' == 'Weed Cleanup'"
   ]
  },
  {
   "cell_type": "code",
   "execution_count": null,
   "metadata": {},
   "outputs": [],
   "source": [
    "'Tree Maintenance' == 'Tree Maintenance'"
   ]
  },
  {
   "cell_type": "markdown",
   "metadata": {
    "slideshow": {
     "slide_type": "fragment"
    }
   },
   "source": [
    "We can *broadcast* the equality check to each element of a Series. The comparison happens element-wise."
   ]
  },
  {
   "cell_type": "code",
   "execution_count": null,
   "metadata": {
    "scrolled": true
   },
   "outputs": [],
   "source": [
    "requests.get('service') == 'Tree Maintenance'"
   ]
  },
  {
   "cell_type": "markdown",
   "metadata": {
    "slideshow": {
     "slide_type": "slide"
    }
   },
   "source": [
    "### Aside: Booleans\n",
    "\n",
    "- When we compare two values, the result is either `True` or `False`.\n",
    "    - Notice, these words are not in quotes.\n",
    "- `bool` is a data type in Python, just like `int`, `float`, and `str`. \n",
    "    - It stands for \"Boolean\", named after George Boole, an early mathematician.\n",
    "- There are only two possible Boolean values: `True` or `False`.\n",
    "    - Yes or no.\n",
    "    - On or off.\n",
    "    - 1 or 0."
   ]
  },
  {
   "cell_type": "code",
   "execution_count": null,
   "metadata": {
    "scrolled": true
   },
   "outputs": [],
   "source": [
    "5 == 6"
   ]
  },
  {
   "cell_type": "code",
   "execution_count": null,
   "metadata": {},
   "outputs": [],
   "source": [
    "True"
   ]
  },
  {
   "cell_type": "markdown",
   "metadata": {
    "slideshow": {
     "slide_type": "slide"
    }
   },
   "source": [
    "### Comparison operators\n",
    "\n",
    "There are several types of comparisons we can make.\n",
    "\n",
    "|symbol|meaning|\n",
    "|--------|--------|\n",
    "|`==` |equal to |\n",
    "|`!=` |not equal to |\n",
    "|`<`|less than|\n",
    "|`<=`|less than or equal to|\n",
    "|`>`|greater than|\n",
    "|`>=`|greater than or equal to|\n",
    "\n",
    "When comparing an entire Series to a value, the result is a Series of `bool`s."
   ]
  },
  {
   "cell_type": "code",
   "execution_count": null,
   "metadata": {
    "scrolled": true
   },
   "outputs": [],
   "source": [
    "requests.get('service') == 'Tree Maintenance'"
   ]
  },
  {
   "cell_type": "markdown",
   "metadata": {
    "slideshow": {
     "slide_type": "slide"
    }
   },
   "source": [
    "### What is a query? 🤔\n",
    "\n",
    "- A \"query\" is code that extracts rows from a DataFrame for which certain condition(s) are true.\n",
    "- We often use queries to _filter_ DataFrames so that they only contain the rows that satisfy the conditions stated in our questions."
   ]
  },
  {
   "cell_type": "markdown",
   "metadata": {
    "slideshow": {
     "slide_type": "slide"
    }
   },
   "source": [
    "### How do we query a DataFrame?\n",
    "\n",
    "To select only certain rows of `requests`:\n",
    "\n",
    "1. Make a sequence (list/array/Series) of `True`s (keep) and `False`s (toss), usually by making a comparison.\n",
    "2. Then pass it into `requests[sequence_goes_here]`."
   ]
  },
  {
   "cell_type": "code",
   "execution_count": null,
   "metadata": {},
   "outputs": [],
   "source": [
    "requests[requests.get('service') == 'Tree Maintenance']"
   ]
  },
  {
   "cell_type": "markdown",
   "metadata": {
    "slideshow": {
     "slide_type": "slide"
    }
   },
   "source": [
    "### Another example of element-wise comparison\n",
    "\n",
    "This time, we'll find the neighborhoods and services with at least one open request."
   ]
  },
  {
   "cell_type": "code",
   "execution_count": null,
   "metadata": {},
   "outputs": [],
   "source": [
    "requests"
   ]
  },
  {
   "cell_type": "code",
   "execution_count": null,
   "metadata": {},
   "outputs": [],
   "source": [
    "requests.get('open') > 1"
   ]
  },
  {
   "cell_type": "code",
   "execution_count": null,
   "metadata": {
    "scrolled": true
   },
   "outputs": [],
   "source": [
    "requests[requests.get('open') > 1]"
   ]
  },
  {
   "cell_type": "markdown",
   "metadata": {
    "slideshow": {
     "slide_type": "slide"
    }
   },
   "source": [
    "### Original Question: Which neighborhood has the most `'Tree Maintenance'` requests?\n",
    "\n",
    "Strategy:\n",
    "1. Extract a DataFrame of just the `'Tree Maintenance'` requests.\n",
    "2. Sort by `'total'` in descending order.\n",
    "3. Return the first element in the `'neighborhood'` column."
   ]
  },
  {
   "cell_type": "code",
   "execution_count": null,
   "metadata": {},
   "outputs": [],
   "source": [
    "tree_maintenance_only = requests[requests.get('service') == 'Tree Maintenance']\n",
    "tree_maintenance_sorted = tree_maintenance_only.sort_values(by='total', ascending=False)\n",
    "tree_maintenance_sorted"
   ]
  },
  {
   "cell_type": "code",
   "execution_count": null,
   "metadata": {},
   "outputs": [],
   "source": [
    "tree_maintenance_sorted.get('neighborhood').iloc[0]"
   ]
  },
  {
   "cell_type": "markdown",
   "metadata": {
    "slideshow": {
     "slide_type": "slide"
    }
   },
   "source": [
    "### What if the condition isn't satisfied?"
   ]
  },
  {
   "cell_type": "code",
   "execution_count": null,
   "metadata": {},
   "outputs": [],
   "source": [
    "requests[requests.get('service') == 'Car Maintenance']"
   ]
  },
  {
   "cell_type": "markdown",
   "metadata": {
    "slideshow": {
     "slide_type": "slide"
    }
   },
   "source": [
    "### Concept Check ✅ – Answer at [cc.dsc10.com](http://cc.dsc10.com) \n",
    "\n",
    "Which expression below evaluates to **the total number of service requests in the `'Downtown'` neighborhood**?\n",
    "\n",
    "A. `requests[requests.get('neighborhood') == 'Downtown'].get('total').sum()`\n",
    "\n",
    "B. `requests.get('total').sum()[requests.get('neighborhood') == 'Downtown']`\n",
    "\n",
    "C. `requests['Downtown'].get('total').sum()`\n",
    "   \n",
    "D. More than one of the above."
   ]
  },
  {
   "cell_type": "code",
   "execution_count": null,
   "metadata": {},
   "outputs": [],
   "source": [
    "..."
   ]
  },
  {
   "cell_type": "markdown",
   "metadata": {
    "slideshow": {
     "slide_type": "slide"
    }
   },
   "source": [
    "### Activity 🚘\n",
    "\n",
    "**Question**: What is the most commonly requested service in the `'University'` neighborhood (near UCSD)?\n",
    "\n",
    "Write one line of code that evaluates to the answer."
   ]
  },
  {
   "cell_type": "code",
   "execution_count": null,
   "metadata": {
    "scrolled": true
   },
   "outputs": [],
   "source": [
    "..."
   ]
  },
  {
   "cell_type": "markdown",
   "metadata": {
    "slideshow": {
     "slide_type": "slide"
    }
   },
   "source": [
    "## Summary"
   ]
  },
  {
   "cell_type": "markdown",
   "metadata": {
    "slideshow": {
     "slide_type": "slide"
    }
   },
   "source": [
    "### Summary\n",
    "\n",
    "- We learned many DataFrame methods and techniques.\n",
    "- Don't feel the need to memorize them all right away.\n",
    "- Instead, refer to this lecture, [the DSC 10 reference sheet](https://drive.google.com/file/d/1ky0Np67HS2O4LO913P-ing97SJG0j27n/view), [the `babypandas` notes](https://notes.dsc10.com/front.html), and [the `babypandas` documentation](https://babypandas.readthedocs.io/en/latest/index.html) when working on assignments.\n",
    "- Over time, these techniques will become more and more familiar.\n",
    "- **Practice!** Frame your own questions using this dataset and try to answer them."
   ]
  },
  {
   "cell_type": "markdown",
   "metadata": {
    "slideshow": {
     "slide_type": "slide"
    }
   },
   "source": [
    "### Next time\n",
    "\n",
    "- We'll answer more complicated questions, which will lead us to a new core DataFrame method, `.groupby`, for organizing rows of a DataFrame with the same value in a particular column. \n",
    "- For example, we might want to organize the data by neighborhood, collecting all the different service requests for each neighborhood."
   ]
  }
 ],
 "metadata": {
  "kernelspec": {
   "display_name": "Python 3 (ipykernel)",
   "language": "python",
   "name": "python3"
  },
  "language_info": {
   "codemirror_mode": {
    "name": "ipython",
    "version": 3
   },
   "file_extension": ".py",
   "mimetype": "text/x-python",
   "name": "python",
   "nbconvert_exporter": "python",
   "pygments_lexer": "ipython3",
   "version": "3.9.13"
  },
  "livereveal": {
   "scroll": true,
   "transition": "none"
  },
  "rise": {
   "enable_chalkboard": true
  }
 },
 "nbformat": 4,
 "nbformat_minor": 2
}
