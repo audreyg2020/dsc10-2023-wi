{
 "cells": [
  {
   "cell_type": "code",
   "execution_count": null,
   "id": "136e9515",
   "metadata": {
    "slideshow": {
     "slide_type": "skip"
    }
   },
   "outputs": [],
   "source": [
    "# Set up packages for lecture. Don't worry about understanding this code, but\n",
    "# make sure to run it if you're following along.\n",
    "import numpy as np\n",
    "import babypandas as bpd\n",
    "import pandas as pd\n",
    "from matplotlib_inline.backend_inline import set_matplotlib_formats\n",
    "import matplotlib.pyplot as plt\n",
    "from scipy import stats\n",
    "import otter\n",
    "set_matplotlib_formats(\"svg\")\n",
    "plt.style.use('ggplot')\n",
    "\n",
    "np.set_printoptions(threshold=20, precision=2, suppress=True)\n",
    "pd.set_option(\"display.max_rows\", 7)\n",
    "pd.set_option(\"display.max_columns\", 8)\n",
    "pd.set_option(\"display.precision\", 2)\n",
    "\n",
    "# Setup to start where we left off last time\n",
    "keep_cols = ['business_name', 'inspection_date', 'inspection_score', 'risk_category', 'Neighborhoods', 'Zip Codes']\n",
    "restaurants_full = bpd.read_csv('data/restaurants_full.csv').get(keep_cols)\n",
    "bakeries = restaurants_full[restaurants_full.get('business_name').str.lower().str.contains('bake')]\n",
    "bakeries = bakeries[bakeries.get('inspection_score') >= 0] # Keeping only the rows where we know the inspection score\n",
    "\n",
    "# Animation\n",
    "from IPython.display import IFrame, display\n",
    "\n",
    "def show_clt_slides():\n",
    "    src = \"https://docs.google.com/presentation/d/e/2PACX-1vTcJd3U1H1KoXqBFcWGKFUPjZbeW4oiNZZLCFY8jqvSDsl4L1rRTg7980nPs1TGCAecYKUZxH5MZIBh/embed?start=false&loop=false&delayms=3000\"\n",
    "    width = 960\n",
    "    height = 509\n",
    "    display(IFrame(src, width, height))"
   ]
  },
  {
   "cell_type": "markdown",
   "id": "c631bb0a",
   "metadata": {
    "slideshow": {
     "slide_type": "slide"
    }
   },
   "source": [
    "# Lecture 27 – Review, Conclusion\n",
    "\n",
    "## DSC 10, Winter 2023"
   ]
  },
  {
   "cell_type": "markdown",
   "id": "fa23f816",
   "metadata": {
    "slideshow": {
     "slide_type": "slide"
    }
   },
   "source": [
    "### Announcements\n",
    "\n",
    "- The Final Exam is **tomorrow at 3PM in Galbraith Hall 242**.\n",
    "    - See [this EdStem announcement](https://edstem.org/us/courses/33310/discussion/2784201) for details.\n",
    "    - Assigned seats will be emailed to you by Friday.\n",
    "    - We will check IDs.\n",
    "    - You'll have **2 hours, 50 minutes** to work on the exam.\n",
    "    - No questions during the exam.\n",
    "    - The [DSC 10 Reference Sheet](https://drive.google.com/file/d/1ky0Np67HS2O4LO913P-ing97SJG0j27n/view) will be provided. No calculators or other notes.\n",
    "    - Practice with old exam problems at [practice.dsc10.com](https://practice.dsc10.com).\n",
    "- If at least 80% of the class fills out both [CAPEs](https://cape.ucsd.edu) and the [End of Quarter Survey](https://docs.google.com/forms/d/e/1FAIpQLSc7qjCK0DkBThgKw9SdNY9OX44SFA-UHX3MZ42dfEMcssCnWA/viewform), then the entire class gets 0.5% of extra credit on their overall grade.\n",
    "    - We value your feedback!"
   ]
  },
  {
   "cell_type": "markdown",
   "id": "a5c38f7e",
   "metadata": {
    "slideshow": {
     "slide_type": "slide"
    }
   },
   "source": [
    "### Agenda\n",
    "\n",
    "- More review.\n",
    "- Working on personal projects.\n",
    "- Demo: Gapminder 🌎.\n",
    "- Some parting thoughts."
   ]
  },
  {
   "cell_type": "markdown",
   "id": "3f8da8bb",
   "metadata": {
    "slideshow": {
     "slide_type": "slide"
    }
   },
   "source": [
    "## Bakeries 🧁"
   ]
  },
  {
   "cell_type": "markdown",
   "id": "f177a904",
   "metadata": {
    "slideshow": {
     "slide_type": "slide"
    }
   },
   "source": [
    "Consider this **population** of bakeries in San Francisco."
   ]
  },
  {
   "cell_type": "code",
   "execution_count": null,
   "id": "ce9ea4e9",
   "metadata": {},
   "outputs": [],
   "source": [
    "bakeries"
   ]
  },
  {
   "cell_type": "code",
   "execution_count": null,
   "id": "248762c7",
   "metadata": {
    "slideshow": {
     "slide_type": "-"
    }
   },
   "outputs": [],
   "source": [
    "score_bins = np.arange(50, 102, 2)\n",
    "bakeries.plot(kind='hist', y='inspection_score', density=True, bins=score_bins, ec='w', figsize=(10, 5),\n",
    "              title='Population Distribution');"
   ]
  },
  {
   "cell_type": "markdown",
   "id": "02c13526",
   "metadata": {},
   "source": [
    "For reference, the mean and standard deviation of the population distribution are calculated below."
   ]
  },
  {
   "cell_type": "code",
   "execution_count": null,
   "id": "15b1f457",
   "metadata": {},
   "outputs": [],
   "source": [
    "bakeries.get('inspection_score').describe()"
   ]
  },
  {
   "cell_type": "markdown",
   "id": "a1458deb",
   "metadata": {
    "slideshow": {
     "slide_type": "slide"
    }
   },
   "source": [
    "In this case we happen to have the inspection scores for all members of the population, but in reality we won't. So let's instead take a random **sample** of 200 bakeries from the population."
   ]
  },
  {
   "cell_type": "code",
   "execution_count": null,
   "id": "b65ed451",
   "metadata": {
    "scrolled": true
   },
   "outputs": [],
   "source": [
    "np.random.seed(23) # Ignore this\n",
    "\n",
    "sample_of_bakeries = bakeries.sample(200) # SOLUTION\n",
    "sample_of_bakeries"
   ]
  },
  {
   "cell_type": "code",
   "execution_count": null,
   "id": "b74fbac7",
   "metadata": {},
   "outputs": [],
   "source": [
    "sample_of_bakeries.plot(kind='hist', y='inspection_score', density=True, bins=score_bins, ec='w', figsize=(10, 5),\n",
    "                        title='Sample Distribution');"
   ]
  },
  {
   "cell_type": "markdown",
   "id": "cc86427f",
   "metadata": {
    "slideshow": {
     "slide_type": "-"
    }
   },
   "source": [
    "Note that since we took a large, random sample of the population, we expect that our sample looks similiar to the population and has a similar mean and SD."
   ]
  },
  {
   "cell_type": "code",
   "execution_count": null,
   "id": "b693a6dd",
   "metadata": {},
   "outputs": [],
   "source": [
    "sample_of_bakeries.get('inspection_score').describe() "
   ]
  },
  {
   "cell_type": "markdown",
   "id": "2a477911",
   "metadata": {},
   "source": [
    "Indeed, the sample mean is quite close to the population mean, and the sample standard deviation is quite close to the population standard deviation."
   ]
  },
  {
   "cell_type": "markdown",
   "id": "d22ea538",
   "metadata": {
    "slideshow": {
     "slide_type": "slide"
    }
   },
   "source": [
    "Let's suppose we want to estimate the population mean (that is, the mean inspection score of all bakeries in SF).\n",
    "\n",
    "One estimate of the population mean is the mean of our sample."
   ]
  },
  {
   "cell_type": "code",
   "execution_count": null,
   "id": "339aa7e8",
   "metadata": {},
   "outputs": [],
   "source": [
    "sample_of_bakeries.get('inspection_score').mean()"
   ]
  },
  {
   "cell_type": "markdown",
   "id": "4cf46360",
   "metadata": {},
   "source": [
    "However, our sample was random and could have been different, meaning our sample mean could also have been different.\n",
    "\n",
    "**Question**: What's a reasonable range of possible values for the sample mean? **What is the distribution of the sample mean?**"
   ]
  },
  {
   "cell_type": "markdown",
   "id": "aa905525",
   "metadata": {
    "slideshow": {
     "slide_type": "slide"
    }
   },
   "source": [
    "### The Central Limit Theorem\n",
    "\n",
    "> The Central Limit Theorem (CLT) says that the probability distribution of the **sum or mean** of a large random sample drawn with replacement will be roughly normal, regardless of the distribution of the population from which the sample is drawn."
   ]
  },
  {
   "cell_type": "code",
   "execution_count": null,
   "id": "3d81101b",
   "metadata": {
    "slideshow": {
     "slide_type": "slide"
    }
   },
   "outputs": [],
   "source": [
    "show_clt_slides()"
   ]
  },
  {
   "cell_type": "markdown",
   "id": "cfdfc6a3",
   "metadata": {
    "slideshow": {
     "slide_type": "slide"
    }
   },
   "source": [
    "To see an empirical distribution of the sample mean, let's take a large number of samples directly from the population and compute the mean of each one.\n",
    "\n",
    "Remember, in real life we wouldn't be able to do this, since we wouldn't have access to the population."
   ]
  },
  {
   "cell_type": "code",
   "execution_count": null,
   "id": "65ed591a",
   "metadata": {},
   "outputs": [],
   "source": [
    "sample_means = np.array([])\n",
    "\n",
    "# BEGIN SOLUTION\n",
    "for i in np.arange(5000):\n",
    "    sample_mean = bakeries.sample(200).get('inspection_score').mean()\n",
    "    sample_means = np.append(sample_means, sample_mean)\n",
    "# END SOLUTION"
   ]
  },
  {
   "cell_type": "code",
   "execution_count": null,
   "id": "5cf2e3bb",
   "metadata": {},
   "outputs": [],
   "source": [
    "sample_means"
   ]
  },
  {
   "cell_type": "code",
   "execution_count": null,
   "id": "cfa48cfb",
   "metadata": {
    "slideshow": {
     "slide_type": "slide"
    }
   },
   "outputs": [],
   "source": [
    "bpd.DataFrame().assign(sample_means=sample_means).plot(kind='hist', density=True, ec='w', bins=25, figsize=(10, 5));"
   ]
  },
  {
   "cell_type": "markdown",
   "id": "021acd3e",
   "metadata": {},
   "source": [
    "Unsurprisingly, the distribution of the sample mean is bell-shaped. The CLT told us that!"
   ]
  },
  {
   "cell_type": "markdown",
   "id": "278c97ef",
   "metadata": {
    "slideshow": {
     "slide_type": "slide"
    }
   },
   "source": [
    "The CLT also tells us that\n",
    "\n",
    "$$\\text{SD of Distribution of Possible Sample Means} = \\frac{\\text{Population SD}}{\\sqrt{\\text{sample size}}}$$\n",
    "\n"
   ]
  },
  {
   "cell_type": "markdown",
   "id": "33f18153",
   "metadata": {},
   "source": [
    "Let's try this out."
   ]
  },
  {
   "cell_type": "code",
   "execution_count": null,
   "id": "25a18661",
   "metadata": {},
   "outputs": [],
   "source": [
    "np.std(bakeries.get('inspection_score')) / np.sqrt(200)"
   ]
  },
  {
   "cell_type": "code",
   "execution_count": null,
   "id": "d9c978fe",
   "metadata": {},
   "outputs": [],
   "source": [
    "np.std(sample_means)"
   ]
  },
  {
   "cell_type": "markdown",
   "id": "17132292",
   "metadata": {},
   "source": [
    "Pretty close! Remember that `sample_means` is an array of simulated sample means; the more samples we simulate, the closer that `np.std(sample_means)` will get to the SD described by the CLT.\n",
    "\n",
    "Note that in practice, we won't have the SD of the population, since we'll usually just have a single sample. In such cases, we can use the SD of the sample as an estimate of the SD of the population:"
   ]
  },
  {
   "cell_type": "code",
   "execution_count": null,
   "id": "492812aa",
   "metadata": {},
   "outputs": [],
   "source": [
    "np.std(sample_of_bakeries.get('inspection_score')) / np.sqrt(200)"
   ]
  },
  {
   "cell_type": "markdown",
   "id": "945b0bd7",
   "metadata": {
    "slideshow": {
     "slide_type": "slide"
    }
   },
   "source": [
    "Using the CLT, we have that the distribution of the sample mean:\n",
    "- is roughly normal,\n",
    "- is centered at the population mean (for which the sample mean is an estimate), and\n",
    "- has a standard deviation of $\\frac{\\text{Population SD}}{\\sqrt{\\text{sample size}}}$ (which can be estimated using $\\frac{\\text{Sample SD}}{\\sqrt{\\text{sample size}}}$).\n",
    "\n",
    "Using this information, we can build a confidence interval for where we think the population mean might be. A 95% confidence interval for the population mean is given by\n",
    "\n",
    "$$\n",
    "\\left[\n",
    "\\text{sample mean} - 2\\cdot \\frac{\\text{sample SD}}{\\sqrt{\\text{sample size}}}, \\\n",
    "\\text{sample mean} + 2\\cdot \\frac{\\text{sample SD}}{\\sqrt{\\text{sample size}}}\n",
    "\\right]\n",
    "$$"
   ]
  },
  {
   "cell_type": "code",
   "execution_count": null,
   "id": "5ae39242",
   "metadata": {},
   "outputs": [],
   "source": [
    "sample_mean = sample_of_bakeries.get('inspection_score').mean()\n",
    "sample_std = np.std(sample_of_bakeries.get('inspection_score'))"
   ]
  },
  {
   "cell_type": "code",
   "execution_count": null,
   "id": "85fd7108",
   "metadata": {},
   "outputs": [],
   "source": [
    "[sample_mean - 2 * sample_std / np.sqrt(200), sample_mean + 2 * sample_std / np.sqrt(200)] # SOLUTION"
   ]
  },
  {
   "cell_type": "markdown",
   "id": "c05a19bc",
   "metadata": {
    "slideshow": {
     "slide_type": "slide"
    }
   },
   "source": [
    "### Concept Check ✅ – Answer at [cc.dsc10.com](http://cc.dsc10.com) \n",
    "\n",
    "Using a single sample of 200 bakeries, how can we estimate the **median** inspection score of all bakeries in San Francisco with an inspection score? What technique should we use?\n",
    "\n",
    "A. Standard hypothesis testing\n",
    "\n",
    "B. Permutation testing  \n",
    "\n",
    "C. Bootstrapping\n",
    "\n",
    "D. The Central Limit Theorem"
   ]
  },
  {
   "cell_type": "markdown",
   "id": "588987bf",
   "metadata": {},
   "source": [
    "<details>\n",
    "<summary>Click for the answer <b>after</b> you've entered your guess above. <b>Don't scroll any further.</b></summary>\n",
    "    \n",
    "Bootstrapping. The CLT only applies to sample means (and sums), not to any other statistics.\n",
    "\n",
    "</details>"
   ]
  },
  {
   "cell_type": "markdown",
   "id": "79c3495b",
   "metadata": {
    "slideshow": {
     "slide_type": "slide"
    }
   },
   "source": [
    "There is no CLT for sample medians, so instead we'll have to resort to bootstrapping to estimate the distribution of the sample median.\n",
    "\n",
    "Recall, bootstrapping is the act of **sampling from the original sample, with replacement**. This is also called **resampling**."
   ]
  },
  {
   "cell_type": "code",
   "execution_count": null,
   "id": "ea7cf57f",
   "metadata": {},
   "outputs": [],
   "source": [
    "# The median of our original sample – this is just one number\n",
    "sample_of_bakeries.get('inspection_score').median() # SOLUTION"
   ]
  },
  {
   "cell_type": "code",
   "execution_count": null,
   "id": "19268ed0",
   "metadata": {},
   "outputs": [],
   "source": [
    "# The median of a single bootstrap resample – this is just one number\n",
    "sample_of_bakeries.sample(200, replace=True).get('inspection_score').median() # SOLUTION"
   ]
  },
  {
   "cell_type": "markdown",
   "id": "04bbdb00",
   "metadata": {
    "slideshow": {
     "slide_type": "slide"
    }
   },
   "source": [
    "Let's resample repeatedly."
   ]
  },
  {
   "cell_type": "code",
   "execution_count": null,
   "id": "0db9c5b4",
   "metadata": {},
   "outputs": [],
   "source": [
    "np.random.seed(23) # Ignore this\n",
    "\n",
    "boot_medians = np.array([])\n",
    "\n",
    "# BEGIN SOLUTION\n",
    "for i in np.arange(5000):\n",
    "    boot_median = sample_of_bakeries.sample(200, replace=True).get('inspection_score').median()\n",
    "    boot_medians = np.append(boot_medians, boot_median)\n",
    "# END SOLUTION"
   ]
  },
  {
   "cell_type": "code",
   "execution_count": null,
   "id": "f52f694b",
   "metadata": {},
   "outputs": [],
   "source": [
    "boot_medians"
   ]
  },
  {
   "cell_type": "code",
   "execution_count": null,
   "id": "d996d6b9",
   "metadata": {
    "slideshow": {
     "slide_type": "slide"
    }
   },
   "outputs": [],
   "source": [
    "bpd.DataFrame().assign(boot_medians=boot_medians).plot(kind='hist', density=True, ec='w', bins=10, figsize=(10, 5));"
   ]
  },
  {
   "cell_type": "markdown",
   "id": "a7e0a51c",
   "metadata": {},
   "source": [
    "Note that this distribution is not at all normal.\n",
    "\n",
    "To compute a 95% confidence interval, we take the middle 95% of the bootstrapped medians."
   ]
  },
  {
   "cell_type": "code",
   "execution_count": null,
   "id": "8c12f5ce",
   "metadata": {},
   "outputs": [],
   "source": [
    "# BEGIN SOLUTION\n",
    "left = np.percentile(boot_medians, 2.5)\n",
    "right = np.percentile(boot_medians, 97.5)\n",
    "\n",
    "[left, right]\n",
    "# END SOLUTION"
   ]
  },
  {
   "cell_type": "markdown",
   "id": "a0dfafa8",
   "metadata": {
    "slideshow": {
     "slide_type": "slide"
    }
   },
   "source": [
    "### Discussion Question\n",
    "\n",
    "Which of the following interpretations of this confidence interval are valid?\n",
    "\n",
    "1. 95% of SF bakeries have an inspection score between 85 and 88.  \n",
    "2. 95% of the resamples have a median inspection score between 85 and 88.  \n",
    "3. There is a 95% chance that our sample has a median inspection score between 85 and 88.  \n",
    "4. There is a 95% chance that the median inspection score of all SF bakeries is between 85 and 88.  \n",
    "5. If we had taken 100 samples from the same population, about 95 of these samples would have a median inspection score between 85 and 88.  \n",
    "6.  If we had taken 100 samples from the same population, about 95 of the confidence intervals created would contain the median inspection score of all SF bakeries.  "
   ]
  },
  {
   "cell_type": "markdown",
   "id": "66a0bcee",
   "metadata": {},
   "source": [
    "<details>\n",
    "<summary>Click for the answer <b>after</b> you've entered your guess above. <b>Don't scroll any further.</b></summary>\n",
    "    \n",
    "The correct answers are Option 2 and Option 6.\n",
    "\n",
    "</details>"
   ]
  },
  {
   "cell_type": "markdown",
   "id": "93135860",
   "metadata": {
    "slideshow": {
     "slide_type": "slide"
    }
   },
   "source": [
    "## Physicians 🩺"
   ]
  },
  {
   "cell_type": "markdown",
   "id": "3420981e",
   "metadata": {
    "slideshow": {
     "slide_type": "slide"
    }
   },
   "source": [
    "### The setup\n",
    "\n",
    "You work as a family physician. You collect data and you find that in 6354 patients, 3115 were children and 3239 were adults.\n",
    "\n",
    "You want to test the following hypotheses:\n",
    "\n",
    "- **Null Hypothesis**: Family physicians see an equal number of children and adults.\n",
    "- **Alternative Hypothesis**: Family physicians see more adults than they see children."
   ]
  },
  {
   "cell_type": "markdown",
   "id": "a8d6ce04",
   "metadata": {
    "slideshow": {
     "slide_type": "slide"
    }
   },
   "source": [
    "### Concept Check ✅ – Answer at [cc.dsc10.com](http://cc.dsc10.com) \n",
    "\n",
    "Which test statistic(s) could be used for this hypothesis test? Which values of the test statistic point towards the alternative?\n",
    "\n",
    "A. Proportion of children seen   \n",
    "B. Number of children seen  \n",
    "C. Number of children minus number of adults seen  \n",
    "D. Absolute value of number of children minus number of adults seen\n",
    "\n",
    "**There may be multiple correct answers; choose one.**"
   ]
  },
  {
   "cell_type": "markdown",
   "id": "c7213133",
   "metadata": {},
   "source": [
    "<details>\n",
    "<summary>Click for the answer <b>after</b> you've entered your guess above. <b>Don't scroll any further.</b></summary>\n",
    "    \n",
    "All of these but the last one would work for this alternative. Small values of these statistics would favor the alternative.\n",
    "    \n",
    "If the alternative was instead \"Family physicians see a different number of children and adults\", the last option would work while the first three wouldn't.\n",
    "\n",
    "</details>"
   ]
  },
  {
   "cell_type": "markdown",
   "id": "292f45e0",
   "metadata": {
    "slideshow": {
     "slide_type": "slide"
    }
   },
   "source": [
    "Let's use option B, the number of children seen, as a test statistic. Small values of this statistic favor the alternative hypothesis.\n",
    "\n",
    "How do we generate a single value of the test statistic?"
   ]
  },
  {
   "cell_type": "code",
   "execution_count": null,
   "id": "5ada89fc",
   "metadata": {},
   "outputs": [],
   "source": [
    "np.random.multinomial(6354, [0.5, 0.5])[0] # SOLUTION"
   ]
  },
  {
   "cell_type": "markdown",
   "id": "4f74d8d2",
   "metadata": {},
   "source": [
    "As usual, let's simulate the test statistic many, many times (10,000)."
   ]
  },
  {
   "cell_type": "code",
   "execution_count": null,
   "id": "0d611ddb",
   "metadata": {},
   "outputs": [],
   "source": [
    "test_stats = np.array([])\n",
    "\n",
    "# BEGIN SOLUTION\n",
    "for i in np.arange(10000):\n",
    "    stat = np.random.multinomial(6354, [0.5, 0.5])[0]\n",
    "    test_stats = np.append(test_stats, stat)\n",
    "# END SOLUTION"
   ]
  },
  {
   "cell_type": "code",
   "execution_count": null,
   "id": "4232492a",
   "metadata": {},
   "outputs": [],
   "source": [
    "test_stats"
   ]
  },
  {
   "cell_type": "code",
   "execution_count": null,
   "id": "51ed2b06",
   "metadata": {
    "slideshow": {
     "slide_type": "slide"
    }
   },
   "outputs": [],
   "source": [
    "bpd.DataFrame().assign(test_stats=test_stats) \\\n",
    "               .plot(kind='hist', density=True, ec='w', figsize=(10, 5), bins=20);\n",
    "plt.axvline(3115, lw=3, color='black', label='observed statistic')\n",
    "plt.legend();"
   ]
  },
  {
   "cell_type": "markdown",
   "id": "f12d4449",
   "metadata": {},
   "source": [
    "Recall that you collected data and found that in 6354 patients, 3115 were children and 3239 were adults."
   ]
  },
  {
   "cell_type": "markdown",
   "id": "ec65dda7",
   "metadata": {
    "slideshow": {
     "slide_type": "slide"
    }
   },
   "source": [
    "### Concept Check ✅ – Answer at [cc.dsc10.com](http://cc.dsc10.com) \n",
    "\n",
    "What goes in blank (a)?\n",
    "\n",
    "```py\n",
    "p_value = np.count_nonzero(test_stats __(a)__ 3115) / 10000\n",
    "```\n",
    "\n",
    "A. `>=`\n",
    "\n",
    "B. `>`\n",
    "\n",
    "C. `<=`\n",
    "\n",
    "D. `<`"
   ]
  },
  {
   "cell_type": "markdown",
   "id": "5827282e",
   "metadata": {},
   "source": [
    "<details>\n",
    "<summary>Click for the answer <b>after</b> you've entered your guess above. <b>Don't scroll any further.</b></summary>\n",
    "    <code><=</code>\n",
    "\n",
    "</details>"
   ]
  },
  {
   "cell_type": "code",
   "execution_count": null,
   "id": "2e4eebd5",
   "metadata": {
    "slideshow": {
     "slide_type": "slide"
    }
   },
   "outputs": [],
   "source": [
    "# Calculate the p-value"
   ]
  },
  {
   "cell_type": "markdown",
   "id": "95195609",
   "metadata": {
    "slideshow": {
     "slide_type": "slide"
    }
   },
   "source": [
    "### Concept Check ✅ – Answer at [cc.dsc10.com](http://cc.dsc10.com) \n",
    "\n",
    "What do we do, assuming that we're using a 5% p-value cutoff?\n",
    "\n",
    "A. Reject the null  \n",
    "\n",
    "B. Fail to reject the null \n",
    "\n",
    "C. It depends"
   ]
  },
  {
   "cell_type": "markdown",
   "id": "f9fe0533",
   "metadata": {},
   "source": [
    "<details>\n",
    "<summary>Click for the answer <b>after</b> you've entered your guess above. <b>Don't scroll any further.</b></summary>\n",
    "    Fail to reject the null, since the p-value is above 0.05.\n",
    "\n",
    "</details>"
   ]
  },
  {
   "cell_type": "markdown",
   "id": "454f5a35",
   "metadata": {
    "slideshow": {
     "slide_type": "slide"
    }
   },
   "source": [
    "Note that while we used `np.random.multinomial` to simulate the test statistic, we could have used `np.random.choice`, too:"
   ]
  },
  {
   "cell_type": "code",
   "execution_count": null,
   "id": "b977bacf",
   "metadata": {},
   "outputs": [],
   "source": [
    "choices = np.random.choice(['adult', 'child'], p=[0.5, 0.5], size=6354, replace=True) # SOLUTION\n",
    "choices"
   ]
  },
  {
   "cell_type": "code",
   "execution_count": null,
   "id": "af7f2795",
   "metadata": {},
   "outputs": [],
   "source": [
    "np.count_nonzero(choices == 'child') # SOLUTION"
   ]
  },
  {
   "cell_type": "markdown",
   "id": "d18e9e96",
   "metadata": {},
   "source": [
    "### Concept Check ✅ – Answer at [cc.dsc10.com](http://cc.dsc10.com) \n",
    "\n",
    "Is this an example of bootstrapping?\n",
    "\n",
    "A. Yes, because we are sampling with replacement.\n",
    "\n",
    "B. No, this is not bootstrapping."
   ]
  },
  {
   "cell_type": "markdown",
   "id": "b4faab2b",
   "metadata": {},
   "source": [
    "<details>\n",
    "<summary>Click for the answer <b>after</b> you've entered your guess above. <b>Don't scroll any further.</b></summary>\n",
    "    No, this is not bootstrapping. Bootstrapping is when we resample from a single sample; here we're simulating data under the assumptions of a model.\n",
    "\n",
    "</details>"
   ]
  },
  {
   "cell_type": "markdown",
   "id": "37128fd2",
   "metadata": {
    "slideshow": {
     "slide_type": "slide"
    }
   },
   "source": [
    "## Personal projects"
   ]
  },
  {
   "cell_type": "markdown",
   "id": "4e54af73",
   "metadata": {
    "slideshow": {
     "slide_type": "slide"
    }
   },
   "source": [
    "### Using Jupyter Notebooks after DSC 10\n",
    "\n",
    "- You may be interested in working on data science projects of your own.\n",
    "- In [this video](https://www.youtube.com/watch?v=Hq8VaNirDRQ), we show you how to make blank notebooks and upload datasets of your own to DataHub.\n",
    "- Depending on the classes you're in, you may not have access to DataHub. Eventually, you'll want to install Jupyter Notebooks on your computer.\n",
    "    - [Anaconda](https://docs.anaconda.com/anaconda/install/index.html) is a great way to do that, as it also installs many commonly used packages.\n",
    "    - You may want to download your work from DataHub so you can refer to it after the course ends.\n",
    "    - Remember, all `babypandas` code is regular `pandas` code, too!"
   ]
  },
  {
   "cell_type": "markdown",
   "id": "745999ea",
   "metadata": {
    "slideshow": {
     "slide_type": "slide"
    }
   },
   "source": [
    "### Finding data\n",
    "\n",
    "These sites allow you to search for datasets (in CSV format) from a variety of different domains. Some may require you to sign up for an account; these are generally reputable sources.\n",
    "\n",
    "Note that all of these links are also available at [rampure.org/find-datasets](https://rampure.org/find-datasets).\n",
    "\n",
    "- [Data is Plural](https://www.data-is-plural.com/archive/)\n",
    "- [FiveThirtyEight](https://data.fivethirtyeight.com/).\n",
    "- [CORGIS](https://corgis-edu.github.io/corgis/csv/).\n",
    "- [Kaggle Datasets](https://www.kaggle.com/datasets).\n",
    "- [Google’s dataset search](http://toolbox.google.com/datasetsearch).\n",
    "- [DataHub.io](https://datahub.io/collections).\n",
    "- [Data.world.](https://data.world/)\n",
    "- [R datasets](https://vincentarelbundock.github.io/Rdatasets/articles/data.html).\n",
    "- Wikipedia. (Use [this site](https://wikitable2csv.ggor.de/) to extract and download tables as CSVs.)\n",
    "- [Awesome Public Datasets GitHub repo](https://github.com/awesomedata/awesome-public-datasets).\n",
    "- [Links to even more sources](https://rockcontent.com/blog/data-sources/)."
   ]
  },
  {
   "cell_type": "markdown",
   "id": "3854b67c",
   "metadata": {
    "slideshow": {
     "slide_type": "slide"
    }
   },
   "source": [
    "### Domain-specific sources of data\n",
    "\n",
    "- Sports: [Basketball Reference](https://www.basketball-reference.com/), [Baseball Reference](https://www.baseball-reference.com/), etc.\n",
    "- US Government Sources: [census.gov](https://www.census.gov/data/tables.html), [data.gov](https://www.data.gov/), [data.ca.gov](https://data.ca.gov/), [data.sfgov.org](https://data.sfgov.org/browse?), [FBI’s Crime Data Explorer](https://crime-data-explorer.fr.cloud.gov/), [Centers for Disease Control and Prevention](https://data.cdc.gov/browse?category=NCHS).\n",
    "- Global Development: [data.worldbank.org](https://data.worldbank.org/), [databank.worldbank.org](https://databank.worldbank.org/home.aspx), [WHO](https://apps.who.int/gho/data/node.home).\n",
    "- Transportation: [New York Taxi trips](https://www1.nyc.gov/site/tlc/about/tlc-trip-record-data.page), [Bureau of Transportation Statistics](https://www.transtats.bts.gov/DataIndex.asp), [SFO Air Traffic Statistics](https://www.flysfo.com/media/facts-statistics/air-traffic-statistics).\n",
    "- Music: [Spotify Charts](https://spotifycharts.com/regional).\n",
    "- COVID: [Johns Hopkins](https://github.com/CSSEGISandData/COVID-19).\n",
    "- Any Google Forms survey you’ve administered! (Go to the results spreadsheet, then go to “File > Download > Comma-separated values”.)\n",
    "\n",
    "Tip: if a site only allows you to download a file as an Excel file, not a CSV file, you can download it, open it in a spreadsheet viewer (Excel, Numbers, Google Sheets), and export it to a CSV."
   ]
  },
  {
   "cell_type": "markdown",
   "id": "27d69afa",
   "metadata": {
    "slideshow": {
     "slide_type": "slide"
    }
   },
   "source": [
    "### Join a DS3 Project Group 🤝\n",
    "\n",
    "The Data Science Student Society organizes project groups, which are a great way to get experience and build your resume. Keep your eye out for applications! \n",
    " - Students have the opportunity to join a team to pursue a unique data science project that will last two quarters. \n",
    " - At the end of the project, teams will have developed a polished, complete personal project which they will showcase to their peers, faculty, and companies in the data science industry. \n",
    " - Great for if you don't yet have a lot of experience and are looking for that first data science project to get you started."
   ]
  },
  {
   "cell_type": "markdown",
   "id": "56a9bd5d",
   "metadata": {
    "slideshow": {
     "slide_type": "slide"
    }
   },
   "source": [
    "## Demo: Gapminder 🌎"
   ]
  },
  {
   "cell_type": "markdown",
   "id": "499eb2e5",
   "metadata": {
    "slideshow": {
     "slide_type": "slide"
    }
   },
   "source": [
    "### `plotly`\n",
    "\n",
    "- All of the visualizations (scatter plots, histograms, etc.) in this course were created using a library called `matplotlib`.\n",
    "    - This library was called under-the-hood everytime we wrote `df.plot`.\n",
    "- `plotly` is a different visualization library that allows us to create **interactive** visualizations.\n",
    "- You may learn about it in a future course, but we'll briefly show you some cool visualizations you can make with it."
   ]
  },
  {
   "cell_type": "code",
   "execution_count": null,
   "id": "a30c750b",
   "metadata": {},
   "outputs": [],
   "source": [
    "import plotly.express as px"
   ]
  },
  {
   "cell_type": "markdown",
   "id": "d346f9c3",
   "metadata": {
    "slideshow": {
     "slide_type": "slide"
    }
   },
   "source": [
    "### Gapminder dataset\n",
    "\n",
    "> Gapminder Foundation is a non-profit venture registered in Stockholm, Sweden, that promotes sustainable global development and achievement of the United Nations Millennium Development Goals by increased use and understanding of statistics and other information about social, economic and environmental development at local, national and global levels. - [Gapminder Wikipedia](https://en.wikipedia.org/wiki/Gapminder_Foundation)"
   ]
  },
  {
   "cell_type": "code",
   "execution_count": null,
   "id": "abcc87f8",
   "metadata": {
    "slideshow": {
     "slide_type": "slide"
    }
   },
   "outputs": [],
   "source": [
    "gapminder = px.data.gapminder()\n",
    "gapminder"
   ]
  },
  {
   "cell_type": "markdown",
   "id": "d5866643",
   "metadata": {},
   "source": [
    "The dataset contains information for each country for several different years."
   ]
  },
  {
   "cell_type": "code",
   "execution_count": null,
   "id": "16aade46",
   "metadata": {},
   "outputs": [],
   "source": [
    "gapminder.get('year').unique()"
   ]
  },
  {
   "cell_type": "markdown",
   "id": "0e84d9aa",
   "metadata": {
    "slideshow": {
     "slide_type": "slide"
    }
   },
   "source": [
    "Let's start by just looking at 2007 data (the most recent year in the dataset)."
   ]
  },
  {
   "cell_type": "code",
   "execution_count": null,
   "id": "da87be3b",
   "metadata": {},
   "outputs": [],
   "source": [
    "gapminder_2007 = gapminder[gapminder.get('year') == 2007]\n",
    "gapminder_2007"
   ]
  },
  {
   "cell_type": "markdown",
   "id": "1b94aa45",
   "metadata": {
    "slideshow": {
     "slide_type": "slide"
    }
   },
   "source": [
    "### Scatter plot\n",
    "\n",
    "We can plot life expectancy vs. GDP per capita. If you hover over a point, you will see the name of the country."
   ]
  },
  {
   "cell_type": "code",
   "execution_count": null,
   "id": "852255bd",
   "metadata": {},
   "outputs": [],
   "source": [
    "px.scatter(gapminder_2007, x='gdpPercap', y='lifeExp', hover_name='country')"
   ]
  },
  {
   "cell_type": "markdown",
   "id": "e115f7c7",
   "metadata": {
    "slideshow": {
     "slide_type": "slide"
    }
   },
   "source": [
    "In future courses, you'll learn about transformations. Here, we'll apply a log transformation to the x-axis to make the plot look a little more linear."
   ]
  },
  {
   "cell_type": "code",
   "execution_count": null,
   "id": "d29affbc",
   "metadata": {},
   "outputs": [],
   "source": [
    "px.scatter(gapminder_2007, x='gdpPercap', y='lifeExp', log_x=True, hover_name='country')"
   ]
  },
  {
   "cell_type": "markdown",
   "id": "7c88edcc",
   "metadata": {
    "slideshow": {
     "slide_type": "slide"
    }
   },
   "source": [
    "### Animated scatter plot\n",
    "\n",
    "We can take things one step further."
   ]
  },
  {
   "cell_type": "code",
   "execution_count": null,
   "id": "b141efe8",
   "metadata": {},
   "outputs": [],
   "source": [
    "px.scatter(gapminder,\n",
    "           x = 'gdpPercap',\n",
    "           y = 'lifeExp', \n",
    "           hover_name = 'country',\n",
    "           color = 'continent',\n",
    "           size = 'pop',\n",
    "           size_max = 60,\n",
    "           log_x = True,\n",
    "           range_y = [30, 90],\n",
    "           animation_frame = 'year',\n",
    "           title = 'Life Expectancy, GDP Per Capita, and Population over Time'\n",
    "          )"
   ]
  },
  {
   "cell_type": "markdown",
   "id": "eb25fe6b",
   "metadata": {},
   "source": [
    "Watch [this video](https://www.youtube.com/watch?v=jbkSRLYSojo) if you want to see an even-more-animated version of this plot."
   ]
  },
  {
   "cell_type": "markdown",
   "id": "02f3dcc0",
   "metadata": {
    "slideshow": {
     "slide_type": "slide"
    }
   },
   "source": [
    "### Animated histogram"
   ]
  },
  {
   "cell_type": "code",
   "execution_count": null,
   "id": "5f7cf93b",
   "metadata": {},
   "outputs": [],
   "source": [
    "px.histogram(gapminder,\n",
    "            x = 'lifeExp',\n",
    "            animation_frame = 'year',\n",
    "            range_x = [20, 90],\n",
    "            range_y = [0, 50],\n",
    "            title = 'Distribution of Life Expectancy over Time')"
   ]
  },
  {
   "cell_type": "markdown",
   "id": "681740b9",
   "metadata": {
    "slideshow": {
     "slide_type": "slide"
    }
   },
   "source": [
    "### Choropleth"
   ]
  },
  {
   "cell_type": "code",
   "execution_count": null,
   "id": "379a9b31",
   "metadata": {},
   "outputs": [],
   "source": [
    "px.choropleth(gapminder,\n",
    "              locations = 'iso_alpha',\n",
    "              color = 'lifeExp',\n",
    "              hover_name = 'country',\n",
    "              hover_data = {'iso_alpha': False},\n",
    "              title = 'Life Expectancy Per Country',\n",
    "              color_continuous_scale = px.colors.sequential.tempo\n",
    ")"
   ]
  },
  {
   "cell_type": "markdown",
   "id": "ccda9221",
   "metadata": {
    "slideshow": {
     "slide_type": "slide"
    }
   },
   "source": [
    "## Parting thoughts"
   ]
  },
  {
   "cell_type": "markdown",
   "id": "7916b8b8",
   "metadata": {
    "slideshow": {
     "slide_type": "slide"
    }
   },
   "source": [
    "### From Lecture 1: What is \"data science\"?\n",
    "\n",
    "Data science is about **drawing useful conclusions from data using computation**. Throughout the quarter, we touched on several aspects of data science:"
   ]
  },
  {
   "cell_type": "markdown",
   "id": "263d9d83",
   "metadata": {
    "slideshow": {
     "slide_type": "fragment"
    }
   },
   "source": [
    "- In the first 4 weeks, we used Python to **explore** data.\n",
    "    - Lots of visualization 📈📊 and \"data manipulation\", using industry-standard tools."
   ]
  },
  {
   "cell_type": "markdown",
   "id": "20cc112c",
   "metadata": {
    "slideshow": {
     "slide_type": "fragment"
    }
   },
   "source": [
    "- In the next 4 weeks, we used data to **infer** about a population, given just a sample.\n",
    "    - Rely heavily on simulation, rather than formulas."
   ]
  },
  {
   "cell_type": "markdown",
   "id": "3632c90e",
   "metadata": {
    "slideshow": {
     "slide_type": "fragment"
    }
   },
   "source": [
    "- In the last 2 weeks, we used data from the past to **predict** what may happen in the future.\n",
    "    - A taste of machine learning 🤖."
   ]
  },
  {
   "cell_type": "markdown",
   "id": "91ea5281",
   "metadata": {
    "slideshow": {
     "slide_type": "fragment"
    }
   },
   "source": [
    "- In future courses – including DSC 20 and 40A, which you may be taking next quarter – you'll revisit all three of these aspects of data science."
   ]
  },
  {
   "cell_type": "markdown",
   "id": "52d99e2f",
   "metadata": {
    "slideshow": {
     "slide_type": "slide"
    }
   },
   "source": [
    "### Thank you!\n",
    "\n",
    "This course would not have been possible without...\n",
    "- **Our 2 graduate TAs**: Dylan Stockard and Dasha Veraksa.\n",
    "- **Our 17 undergraduate tutors**: Gabriel Cha, Eric Chen, Charlie Gillet, Vanessa Hu, Dylan Lee, Anthony Li, Jasmine Lo, Linda Long, Aishani Mohapatra, Harshita Saha, Abel Seyoum, Selim Shaalan, Yutian (Skylar) Shi, Tony Ta, Zairan Xiang, Diego Zavalza, and Lauren (Luran) Zhang.\n",
    "\n",
    "\n",
    "- Learn [more about tutoring](https://datascience.ucsd.edu/academics/undergraduate/dsc-tutors/) – it's fun, and you can be a tutor as early as your 3rd quarter at UCSD!\n",
    "- Keep in touch! [dsc10.com/staff](https://dsc10.com/staff)\n",
    "    - After grades are released, we'll make a post on EdStem where you can ask course staff for advice on courses and UCSD more generally."
   ]
  },
  {
   "cell_type": "markdown",
   "id": "723755ef",
   "metadata": {
    "slideshow": {
     "slide_type": "slide"
    }
   },
   "source": [
    "## Good luck on your finals! 🎉\n",
    "\n",
    "### And see you tomorrow at 3PM in Galbraith Hall 242. ⏰"
   ]
  }
 ],
 "metadata": {
  "celltoolbar": "Slideshow",
  "kernelspec": {
   "display_name": "Python 3 (ipykernel)",
   "language": "python",
   "name": "python3"
  },
  "language_info": {
   "codemirror_mode": {
    "name": "ipython",
    "version": 3
   },
   "file_extension": ".py",
   "mimetype": "text/x-python",
   "name": "python",
   "nbconvert_exporter": "python",
   "pygments_lexer": "ipython3",
   "version": "3.9.7"
  },
  "livereveal": {
   "scroll": true,
   "transition": "none"
  },
  "rise": {
   "enable_chalkboard": true
  }
 },
 "nbformat": 4,
 "nbformat_minor": 5
}
