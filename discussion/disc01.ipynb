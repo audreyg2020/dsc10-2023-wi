{
 "cells": [
  {
   "cell_type": "code",
   "execution_count": null,
   "id": "1886b523",
   "metadata": {
    "slideshow": {
     "slide_type": "skip"
    }
   },
   "outputs": [],
   "source": [
    "# Imports\n",
    "import babypandas as bpd\n",
    "import numpy as np\n",
    "\n",
    "import plotly.express as px\n",
    "import matplotlib.pyplot as plt\n",
    "plt.style.use('ggplot')"
   ]
  },
  {
   "cell_type": "markdown",
   "id": "59ff77c2",
   "metadata": {
    "slideshow": {
     "slide_type": "slide"
    }
   },
   "source": [
    "# Discussion 1 – Getting Started with Jupyter Notebooks\n",
    "\n",
    "## DSC 10, Winter 2023"
   ]
  },
  {
   "cell_type": "markdown",
   "id": "b833044c",
   "metadata": {
    "slideshow": {
     "slide_type": "slide"
    }
   },
   "source": [
    "# Agenda\n",
    "\n",
    "- Introduction\n",
    "- Group activity\n",
    "- Using Jupyter notebooks\n",
    "- Good programming style"
   ]
  },
  {
   "cell_type": "markdown",
   "id": "308127e8",
   "metadata": {
    "slideshow": {
     "slide_type": "slide"
    }
   },
   "source": [
    "### Hi! I am Dasha Veraksa\n",
    "- BS in Biomedical Engineering at Boston University\n",
    "- Currently a 1st year Bioengineering Masters student at UCSD\n",
    "    - 2nd time TAing DSC10!\n",
    "- Outside interests: hiking, surfing, reading, yoga "
   ]
  },
  {
   "cell_type": "markdown",
   "id": "e5740aa2",
   "metadata": {},
   "source": [
    "### Hi! I am Dylan Stockard\n",
    "- BS in Electrical Engineering at the University of Washington\n",
    "- Currently a 1st year Data Science Masters student at UCSD\n",
    "    - 1st time TAing DSC10!\n",
    "- Outside interests: MMA, backpacking, photography"
   ]
  },
  {
   "cell_type": "markdown",
   "id": "1a629aa2",
   "metadata": {
    "slideshow": {
     "slide_type": "slide"
    }
   },
   "source": [
    "### Group Activity\n",
    "Find a group of 2-4 people sitting near you and introduce yourself! Ask your classmates about:\n",
    "- Major and year at UCSD\n",
    "- Hometown (who is from the furthest away?)\n",
    "- Favorite hobby\n",
    "- Why are you interested in data science? \n",
    "\n",
    "Then complete the next two coding activities together with your group."
   ]
  },
  {
   "cell_type": "markdown",
   "id": "cdfaae3b",
   "metadata": {
    "slideshow": {
     "slide_type": "slide"
    }
   },
   "source": [
    "#### Coding Activity 1\n",
    "Without running the cells below, can you identify what is wrong with the following code?"
   ]
  },
  {
   "cell_type": "code",
   "execution_count": null,
   "id": "2eee16b4",
   "metadata": {
    "slideshow": {
     "slide_type": "-"
    }
   },
   "outputs": [],
   "source": [
    "x = '5'\n",
    "x + 3"
   ]
  },
  {
   "cell_type": "code",
   "execution_count": null,
   "id": "776281bb",
   "metadata": {
    "slideshow": {
     "slide_type": "-"
    }
   },
   "outputs": [],
   "source": [
    "a + b = c"
   ]
  },
  {
   "cell_type": "markdown",
   "id": "e794f73f",
   "metadata": {
    "slideshow": {
     "slide_type": "slide"
    }
   },
   "source": [
    "#### Coding Activity 2\n",
    "What is the value of `x` at the end of these statements? Can you predict what value will be displayed when we run the cell below? "
   ]
  },
  {
   "cell_type": "code",
   "execution_count": null,
   "id": "7148e9a2",
   "metadata": {
    "slideshow": {
     "slide_type": "-"
    }
   },
   "outputs": [],
   "source": [
    "x = 3\n",
    "y = x ** 2\n",
    "x + 7\n",
    "max(x, y)"
   ]
  },
  {
   "cell_type": "markdown",
   "id": "fbf150cd",
   "metadata": {
    "slideshow": {
     "slide_type": "slide"
    }
   },
   "source": [
    "### Using Jupyter Notebooks\n",
    "\n",
    "Let's see how to:\n",
    "- Add and delete cells, run all, run before, run after. \n",
    "- Run current cell using **shift + enter**. \n",
    "- Change cells to code or markdown.\n",
    "- Enter command mode (blue bar) and edit mode (green bar). \n",
    "- Add cell before with 'a', add cell after with 'b', and delete cell with 'dd'.\n",
    "- Comment and indent blocks of text.\n",
    "- Tab to autocomplete variable names."
   ]
  },
  {
   "cell_type": "markdown",
   "id": "c089ad26",
   "metadata": {
    "slideshow": {
     "slide_type": "slide"
    }
   },
   "source": [
    "#### Jupyter Notebook Memory\n",
    "- The Jupyter kernel has a short-term memory: leaving it for a while or restarting it will cause it to \"forget\" all the variables you've defined.\n",
    "- When this happens, restart the kernel and run all cells.\n",
    "    - In the menu, Kernel -> Restart and Run All does this in one step, but it will stop at the first error it encounters.\n",
    "- Be careful - running cells out of order or running cells multiple times may cause problems."
   ]
  },
  {
   "cell_type": "code",
   "execution_count": null,
   "id": "c207ff82",
   "metadata": {
    "scrolled": true,
    "slideshow": {
     "slide_type": "slide"
    }
   },
   "outputs": [],
   "source": [
    "a = 3"
   ]
  },
  {
   "cell_type": "code",
   "execution_count": null,
   "id": "859aa9ac",
   "metadata": {},
   "outputs": [],
   "source": [
    "b = 7"
   ]
  },
  {
   "cell_type": "code",
   "execution_count": null,
   "id": "597ff508",
   "metadata": {},
   "outputs": [],
   "source": [
    "a = a + b\n",
    "a"
   ]
  },
  {
   "cell_type": "code",
   "execution_count": null,
   "id": "f2eb23d0",
   "metadata": {},
   "outputs": [],
   "source": [
    "count = 0\n",
    "#for i in range(10000000000):\n",
    "#    count+=1"
   ]
  },
  {
   "cell_type": "markdown",
   "id": "159652e5",
   "metadata": {
    "slideshow": {
     "slide_type": "slide"
    }
   },
   "source": [
    "#### Navigating Jupyter Notebooks Video\n",
    "\n",
    "We highly recommend watching this video for more information. The video is long, but is timestamped so you can jump to specific topics:\n",
    "\n",
    "Timestamps:  \n",
    "0:20 – What is DataHub?  \n",
    "1:04 – Accessing DataHub  \n",
    "2:15 – File organization  \n",
    "4:07 – Clicking links on the course website  \n",
    "6:29 – Uploading files and creating new notebooks  \n",
    "10:02 – Running cells (IMPORTANT!)  \n",
    "10:58 – Test cases in labs vs. homeworks  \n",
    "11:57 – Restarting the kernel  \n",
    "13:49 – Restart and Run All  \n",
    "14:40 – Adding and deleting cells with keyboard shortcuts; command mode vs. edit mode  \n",
    "17:54 – Interrupting the kernel  \n",
    "19:11 – Saving  \n",
    "20:05 – Download as .ipynb (even on iPads!)  "
   ]
  },
  {
   "cell_type": "code",
   "execution_count": null,
   "id": "05c33fae",
   "metadata": {},
   "outputs": [],
   "source": [
    "from IPython.display import YouTubeVideo\n",
    "YouTubeVideo(\"Hq8VaNirDRQ\")"
   ]
  },
  {
   "cell_type": "markdown",
   "id": "1b777f39",
   "metadata": {
    "slideshow": {
     "slide_type": "slide"
    }
   },
   "source": [
    "#### Debugging\n",
    "\n",
    "If you run into a technical issue, check out the [debugging page](https://dsc10.com/debugging/) on the course website.\n"
   ]
  },
  {
   "cell_type": "markdown",
   "id": "521a44db",
   "metadata": {
    "slideshow": {
     "slide_type": "slide"
    }
   },
   "source": [
    "### Good programming style\n",
    "#### Variable Names\n",
    "- Choose descriptive, concise variable names.\n",
    "- See [r/badcode](https://www.reddit.com/r/badcode/) for more fun examples.\n",
    "<center><img src='images/badcode.png' width=70%></center>"
   ]
  },
  {
   "cell_type": "markdown",
   "id": "2f8d668d",
   "metadata": {
    "slideshow": {
     "slide_type": "slide"
    }
   },
   "source": [
    "- If using multiple words, separate_like_this (called snake_case).\n",
    "<center><img src='images/image.png' width=45%></center>"
   ]
  },
  {
   "cell_type": "markdown",
   "id": "f3c41aa3",
   "metadata": {
    "slideshow": {
     "slide_type": "slide"
    }
   },
   "source": [
    "#### White Space\n",
    "\n",
    "White space doesn't affect the running of your code in Python, but for readability (and future classes or programming languages!) this is important.\n",
    "\n",
    "- Put spaces in between operators (`x = 1` vs `x=1`).\n",
    "- Don't be afraid to start new lines or create new variables if your line of code becomes too long.\n",
    "- Break up long lines of code with `\\`."
   ]
  },
  {
   "cell_type": "code",
   "execution_count": null,
   "id": "586f7cd6",
   "metadata": {
    "slideshow": {
     "slide_type": "slide"
    }
   },
   "outputs": [],
   "source": [
    "# Comment your code like this!\n",
    "section_a_students = 120 \n",
    "total_students = 345# total number of students in all sections of the class"
   ]
  },
  {
   "cell_type": "code",
   "execution_count": null,
   "id": "ccb92a8e",
   "metadata": {
    "slideshow": {
     "slide_type": "-"
    }
   },
   "outputs": [],
   "source": [
    "nelson_mandela_quote = \"Do not judge me by my successes, \\\n",
    "judge me by how many times I fell down and got back up again.\"\n",
    "nelson_mandela_quote"
   ]
  },
  {
   "cell_type": "markdown",
   "id": "b8a76cfb",
   "metadata": {
    "slideshow": {
     "slide_type": "slide"
    }
   },
   "source": [
    "### Next Time\n",
    "\n",
    "- Future discussions will be formatted differently than today's. \n",
    "    - You'll solve past exam problems on paper, working in groups. \n",
    "- On four random days, I will take attendance for extra credit. \n",
    "    - You must attend the discussion you've been assigned to in order to earn the extra credit."
   ]
  }
 ],
 "metadata": {
  "kernelspec": {
   "display_name": "Python 3 (ipykernel)",
   "language": "python",
   "name": "python3"
  },
  "language_info": {
   "codemirror_mode": {
    "name": "ipython",
    "version": 3
   },
   "file_extension": ".py",
   "mimetype": "text/x-python",
   "name": "python",
   "nbconvert_exporter": "python",
   "pygments_lexer": "ipython3",
   "version": "3.9.7"
  },
  "livereveal": {
   "scroll": true,
   "transition": "none"
  },
  "rise": {
   "enable_chalkboard": true
  }
 },
 "nbformat": 4,
 "nbformat_minor": 5
}
